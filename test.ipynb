{
 "cells": [
  {
   "cell_type": "code",
   "execution_count": 1,
   "metadata": {},
   "outputs": [],
   "source": [
    "import pandas as pd\n",
    "from pytorch_tabular.tab_datamodule import TabDatamodule"
   ]
  },
  {
   "cell_type": "code",
   "execution_count": 2,
   "metadata": {},
   "outputs": [],
   "source": [
    "DATA_PATH = '/stornext/Bioinf/data/lab_davis/martin.ja/lightning-survival/data/tabular_classification/adult_income/train.csv'"
   ]
  },
  {
   "cell_type": "code",
   "execution_count": 3,
   "metadata": {},
   "outputs": [],
   "source": [
    "train_df = pd.read_csv(DATA_PATH)"
   ]
  },
  {
   "cell_type": "code",
   "execution_count": 5,
   "metadata": {},
   "outputs": [],
   "source": [
    "datamodule = TabDatamodule(\n",
    "    train_df=train_df,\n",
    "    task='classification',\n",
    "    target_cols=['income'],\n",
    "    continuous_cols=['age', 'fnlwgt', 'education-num', 'capital-gain', 'capital-loss', 'hours-per-week'],\n",
    "    categorical_cols=['workclass', 'education', 'marital-status', 'occupation', 'relationship', 'race', 'sex', 'native-country'],\n",
    "    normalize_continuous_features=True,\n",
    ")"
   ]
  },
  {
   "cell_type": "code",
   "execution_count": 6,
   "metadata": {},
   "outputs": [
    {
     "ename": "AttributeError",
     "evalue": "'TabDatamodule' object has no attribute 'do_leave_one_out_encoder'",
     "output_type": "error",
     "traceback": [
      "\u001b[0;31m---------------------------------------------------------------------------\u001b[0m",
      "\u001b[0;31mAttributeError\u001b[0m                            Traceback (most recent call last)",
      "\u001b[1;32m/stornext/Bioinf/data/lab_davis/martin.ja/repos/pytorch_tabular/test.ipynb Cell 5'\u001b[0m in \u001b[0;36m<module>\u001b[0;34m\u001b[0m\n\u001b[0;32m----> <a href='vscode-notebook-cell://ssh-remote%2Bslurm-login02/stornext/Bioinf/data/lab_davis/martin.ja/repos/pytorch_tabular/test.ipynb#ch0000005vscode-remote?line=0'>1</a>\u001b[0m datamodule\u001b[39m.\u001b[39;49msetup()\n",
      "File \u001b[0;32m/stornext/General/data/academic/lab_davis/jarryd/.conda/envs/hylight/lib/python3.9/site-packages/pytorch_lightning/core/datamodule.py:474\u001b[0m, in \u001b[0;36mLightningDataModule._track_data_hook_calls.<locals>.wrapped_fn\u001b[0;34m(*args, **kwargs)\u001b[0m\n\u001b[1;32m    <a href='file:///stornext/General/data/academic/lab_davis/jarryd/.conda/envs/hylight/lib/python3.9/site-packages/pytorch_lightning/core/datamodule.py?line=468'>469</a>\u001b[0m     rank_zero_deprecation(\n\u001b[1;32m    <a href='file:///stornext/General/data/academic/lab_davis/jarryd/.conda/envs/hylight/lib/python3.9/site-packages/pytorch_lightning/core/datamodule.py?line=469'>470</a>\u001b[0m         \u001b[39mf\u001b[39m\u001b[39m\"\u001b[39m\u001b[39mDataModule.\u001b[39m\u001b[39m{\u001b[39;00mname\u001b[39m}\u001b[39;00m\u001b[39m has already been called, so it will not be called again. \u001b[39m\u001b[39m\"\u001b[39m\n\u001b[1;32m    <a href='file:///stornext/General/data/academic/lab_davis/jarryd/.conda/envs/hylight/lib/python3.9/site-packages/pytorch_lightning/core/datamodule.py?line=470'>471</a>\u001b[0m         \u001b[39mf\u001b[39m\u001b[39m\"\u001b[39m\u001b[39mIn v1.6 this behavior will change to always call DataModule.\u001b[39m\u001b[39m{\u001b[39;00mname\u001b[39m}\u001b[39;00m\u001b[39m.\u001b[39m\u001b[39m\"\u001b[39m\n\u001b[1;32m    <a href='file:///stornext/General/data/academic/lab_davis/jarryd/.conda/envs/hylight/lib/python3.9/site-packages/pytorch_lightning/core/datamodule.py?line=471'>472</a>\u001b[0m     )\n\u001b[1;32m    <a href='file:///stornext/General/data/academic/lab_davis/jarryd/.conda/envs/hylight/lib/python3.9/site-packages/pytorch_lightning/core/datamodule.py?line=472'>473</a>\u001b[0m \u001b[39melse\u001b[39;00m:\n\u001b[0;32m--> <a href='file:///stornext/General/data/academic/lab_davis/jarryd/.conda/envs/hylight/lib/python3.9/site-packages/pytorch_lightning/core/datamodule.py?line=473'>474</a>\u001b[0m     fn(\u001b[39m*\u001b[39;49margs, \u001b[39m*\u001b[39;49m\u001b[39m*\u001b[39;49mkwargs)\n",
      "File \u001b[0;32m/stornext/Bioinf/data/lab_davis/martin.ja/repos/pytorch_tabular/pytorch_tabular/tab_datamodule.py:261\u001b[0m, in \u001b[0;36mTabDatamodule.setup\u001b[0;34m(self, stage)\u001b[0m\n\u001b[1;32m    <a href='file:///stornext/Bioinf/data/lab_davis/martin.ja/repos/pytorch_tabular/pytorch_tabular/tab_datamodule.py?line=258'>259</a>\u001b[0m     \u001b[39mself\u001b[39m\u001b[39m.\u001b[39mvalidation \u001b[39m=\u001b[39m \u001b[39mself\u001b[39m\u001b[39m.\u001b[39mvalidation\u001b[39m.\u001b[39mcopy()\n\u001b[1;32m    <a href='file:///stornext/Bioinf/data/lab_davis/martin.ja/repos/pytorch_tabular/pytorch_tabular/tab_datamodule.py?line=259'>260</a>\u001b[0m \u001b[39m# Preprocessing Train, Validation\u001b[39;00m\n\u001b[0;32m--> <a href='file:///stornext/Bioinf/data/lab_davis/martin.ja/repos/pytorch_tabular/pytorch_tabular/tab_datamodule.py?line=260'>261</a>\u001b[0m \u001b[39mself\u001b[39m\u001b[39m.\u001b[39mtrain, _ \u001b[39m=\u001b[39m \u001b[39mself\u001b[39;49m\u001b[39m.\u001b[39;49mpreprocess_data(\u001b[39mself\u001b[39;49m\u001b[39m.\u001b[39;49mtrain, stage\u001b[39m=\u001b[39;49m\u001b[39m\"\u001b[39;49m\u001b[39mfit\u001b[39;49m\u001b[39m\"\u001b[39;49m)\n\u001b[1;32m    <a href='file:///stornext/Bioinf/data/lab_davis/martin.ja/repos/pytorch_tabular/pytorch_tabular/tab_datamodule.py?line=261'>262</a>\u001b[0m \u001b[39mself\u001b[39m\u001b[39m.\u001b[39mvalidation, _ \u001b[39m=\u001b[39m \u001b[39mself\u001b[39m\u001b[39m.\u001b[39mpreprocess_data(\n\u001b[1;32m    <a href='file:///stornext/Bioinf/data/lab_davis/martin.ja/repos/pytorch_tabular/pytorch_tabular/tab_datamodule.py?line=262'>263</a>\u001b[0m     \u001b[39mself\u001b[39m\u001b[39m.\u001b[39mvalidation, stage\u001b[39m=\u001b[39m\u001b[39m\"\u001b[39m\u001b[39minference\u001b[39m\u001b[39m\"\u001b[39m\n\u001b[1;32m    <a href='file:///stornext/Bioinf/data/lab_davis/martin.ja/repos/pytorch_tabular/pytorch_tabular/tab_datamodule.py?line=263'>264</a>\u001b[0m )\n\u001b[1;32m    <a href='file:///stornext/Bioinf/data/lab_davis/martin.ja/repos/pytorch_tabular/pytorch_tabular/tab_datamodule.py?line=264'>265</a>\u001b[0m \u001b[39mif\u001b[39;00m \u001b[39mself\u001b[39m\u001b[39m.\u001b[39mtest \u001b[39mis\u001b[39;00m \u001b[39mnot\u001b[39;00m \u001b[39mNone\u001b[39;00m:\n",
      "File \u001b[0;32m/stornext/Bioinf/data/lab_davis/martin.ja/repos/pytorch_tabular/pytorch_tabular/tab_datamodule.py:148\u001b[0m, in \u001b[0;36mTabDatamodule.preprocess_data\u001b[0;34m(self, data, stage)\u001b[0m\n\u001b[1;32m    <a href='file:///stornext/Bioinf/data/lab_davis/martin.ja/repos/pytorch_tabular/pytorch_tabular/tab_datamodule.py?line=145'>146</a>\u001b[0m \u001b[39mif\u001b[39;00m \u001b[39mlen\u001b[39m(\u001b[39mself\u001b[39m\u001b[39m.\u001b[39mhparams\u001b[39m.\u001b[39mcategorical_cols) \u001b[39m>\u001b[39m \u001b[39m0\u001b[39m:\n\u001b[1;32m    <a href='file:///stornext/Bioinf/data/lab_davis/martin.ja/repos/pytorch_tabular/pytorch_tabular/tab_datamodule.py?line=146'>147</a>\u001b[0m     \u001b[39mif\u001b[39;00m stage \u001b[39m==\u001b[39m \u001b[39m\"\u001b[39m\u001b[39mfit\u001b[39m\u001b[39m\"\u001b[39m:\n\u001b[0;32m--> <a href='file:///stornext/Bioinf/data/lab_davis/martin.ja/repos/pytorch_tabular/pytorch_tabular/tab_datamodule.py?line=147'>148</a>\u001b[0m         \u001b[39mif\u001b[39;00m \u001b[39mself\u001b[39;49m\u001b[39m.\u001b[39;49mdo_leave_one_out_encoder():\n\u001b[1;32m    <a href='file:///stornext/Bioinf/data/lab_davis/martin.ja/repos/pytorch_tabular/pytorch_tabular/tab_datamodule.py?line=148'>149</a>\u001b[0m             logger\u001b[39m.\u001b[39mdebug(\u001b[39m\"\u001b[39m\u001b[39mEncoding Categorical Columns using LeavOneOutEncoder\u001b[39m\u001b[39m\"\u001b[39m)\n\u001b[1;32m    <a href='file:///stornext/Bioinf/data/lab_davis/martin.ja/repos/pytorch_tabular/pytorch_tabular/tab_datamodule.py?line=149'>150</a>\u001b[0m             \u001b[39mself\u001b[39m\u001b[39m.\u001b[39mcategorical_encoder \u001b[39m=\u001b[39m ce\u001b[39m.\u001b[39mLeaveOneOutEncoder(\n\u001b[1;32m    <a href='file:///stornext/Bioinf/data/lab_davis/martin.ja/repos/pytorch_tabular/pytorch_tabular/tab_datamodule.py?line=150'>151</a>\u001b[0m                 cols\u001b[39m=\u001b[39m\u001b[39mself\u001b[39m\u001b[39m.\u001b[39mhparams\u001b[39m.\u001b[39mcategorical_cols, random_state\u001b[39m=\u001b[39m\u001b[39m42\u001b[39m\n\u001b[1;32m    <a href='file:///stornext/Bioinf/data/lab_davis/martin.ja/repos/pytorch_tabular/pytorch_tabular/tab_datamodule.py?line=151'>152</a>\u001b[0m             )\n",
      "\u001b[0;31mAttributeError\u001b[0m: 'TabDatamodule' object has no attribute 'do_leave_one_out_encoder'"
     ]
    }
   ],
   "source": [
    "datamodule.setup()"
   ]
  },
  {
   "cell_type": "code",
   "execution_count": null,
   "metadata": {},
   "outputs": [],
   "source": []
  }
 ],
 "metadata": {
  "interpreter": {
   "hash": "30ed9f4b29267193ca59cb34d04a82df5fe607ea7610ff0bc42c157ee7545276"
  },
  "kernelspec": {
   "display_name": "Python 3.9.7 ('hylight')",
   "language": "python",
   "name": "python3"
  },
  "language_info": {
   "codemirror_mode": {
    "name": "ipython",
    "version": 3
   },
   "file_extension": ".py",
   "mimetype": "text/x-python",
   "name": "python",
   "nbconvert_exporter": "python",
   "pygments_lexer": "ipython3",
   "version": "3.9.7"
  },
  "orig_nbformat": 4
 },
 "nbformat": 4,
 "nbformat_minor": 2
}
